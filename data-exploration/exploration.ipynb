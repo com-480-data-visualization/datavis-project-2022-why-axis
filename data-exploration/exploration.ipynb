{
 "cells": [
  {
   "cell_type": "code",
   "execution_count": 72,
   "metadata": {},
   "outputs": [],
   "source": [
    "import pandas as pd"
   ]
  },
  {
   "cell_type": "code",
   "execution_count": 73,
   "metadata": {},
   "outputs": [
    {
     "name": "stderr",
     "output_type": "stream",
     "text": [
      "/opt/anaconda3/lib/python3.9/site-packages/IPython/core/interactiveshell.py:3444: DtypeWarning: Columns (14) have mixed types.Specify dtype option on import or set low_memory=False.\n",
      "  exec(code_obj, self.user_global_ns, self.user_ns)\n"
     ]
    }
   ],
   "source": [
    "dfs = []\n",
    "path = \"./erasmus_mobility_stats_2014-2019/{}.csv\"\n",
    "\n",
    "# load all the .csv files, merge into a single dataframe\n",
    "\n",
    "for year in range(2014, 2020):\n",
    "    df = pd.read_csv(path.format(year), sep=\";\", parse_dates=[\"Mobility Start Month\", \"Mobility End Month\"])\n",
    "    dfs.append(df)"
   ]
  },
  {
   "cell_type": "code",
   "execution_count": 74,
   "metadata": {},
   "outputs": [],
   "source": [
    "df = pd.concat(dfs, axis=0)"
   ]
  },
  {
   "cell_type": "code",
   "execution_count": 75,
   "metadata": {},
   "outputs": [],
   "source": [
    "# Get rid of age out of bounds\n",
    "df = df[df[\"Participant Age\"].apply(lambda x: str(x).isnumeric() and int(x) < 100)]\n",
    "df = df.astype({\"Participant Age\": int})"
   ]
  },
  {
   "cell_type": "code",
   "execution_count": 76,
   "metadata": {},
   "outputs": [],
   "source": [
    "# rename columns for consistency (organisation -> organization)\n",
    "df = df.rename(columns={\"Sending Organisation Erasmus Code\": \"Sending Organization Erasmus Code\", \"Receiving Organisation Erasmus Code\": \"Receiving Organization Erasmus Code\"})"
   ]
  },
  {
   "cell_type": "code",
   "execution_count": 77,
   "metadata": {},
   "outputs": [],
   "source": [
    "# map the city names to upper for consistency\n",
    "df[\"Sending City\"] = df[\"Sending City\"].apply(lambda x: str(x).upper())\n",
    "df[\"Receiving City\"] = df[\"Receiving City\"].apply(lambda x: str(x).upper())"
   ]
  },
  {
   "cell_type": "code",
   "execution_count": 78,
   "metadata": {},
   "outputs": [],
   "source": [
    "# parse the missing values\n",
    "df[\"Participant Gender\"] = df[\"Participant Gender\"].apply(lambda x: None if x == \"Undefined\" in x else x)\n",
    "df[\"Education Level\"] = df[\"Education Level\"].apply(lambda x: None if \"Unknown\" in x else x)\n",
    "df[\"Field of Education\"] = df[\"Field of Education\"].apply(lambda x: None if \"Unknown\" in str(x) else x)\n",
    "df[\"Receiving Organization Erasmus Code\"] = df[\"Receiving Organization Erasmus Code\"].apply(lambda x: None if x == \"-\" else x)\n",
    "df[\"Sending Organization Erasmus Code\"] = df[\"Sending Organization Erasmus Code\"].apply(lambda x: None if x == \"-\" else x)"
   ]
  },
  {
   "cell_type": "code",
   "execution_count": 79,
   "metadata": {},
   "outputs": [],
   "source": [
    "# parse columns into categories\n",
    "category_columns = ['Academic Year', 'Mobility Start Month',\n",
    "       'Mobility End Month', 'Mobility Duration', 'Activity (mob)',\n",
    "       'Field of Education', 'Participant Nationality', 'Education Level',\n",
    "       'Participant Gender', 'Participant Profile', 'Special Needs',\n",
    "       'Fewer Opportunities', 'GroupLeader', 'Sending Country Code', 'Receiving Country Code']\n",
    "\n",
    "df = df.astype({col: \"category\" for col in category_columns})"
   ]
  },
  {
   "cell_type": "code",
   "execution_count": 80,
   "metadata": {},
   "outputs": [],
   "source": [
    "df.to_csv(\"erasmus-data.csv\")"
   ]
  },
  {
   "cell_type": "code",
   "execution_count": 81,
   "metadata": {},
   "outputs": [],
   "source": [
    "# make another dataframe just for the student exchanges\n",
    "exchange_df = df[df[\"Activity (mob)\"] == \"Student mobility for studies between Programme Countries\"]\n",
    "exchange_df.to_csv(\"erasmus-only-student-exchange.csv\")"
   ]
  }
 ],
 "metadata": {
  "interpreter": {
   "hash": "40d3a090f54c6569ab1632332b64b2c03c39dcf918b08424e98f38b5ae0af88f"
  },
  "kernelspec": {
   "display_name": "Python 3.9.7 ('base')",
   "language": "python",
   "name": "python3"
  },
  "language_info": {
   "codemirror_mode": {
    "name": "ipython",
    "version": 3
   },
   "file_extension": ".py",
   "mimetype": "text/x-python",
   "name": "python",
   "nbconvert_exporter": "python",
   "pygments_lexer": "ipython3",
   "version": "3.9.7"
  },
  "orig_nbformat": 4
 },
 "nbformat": 4,
 "nbformat_minor": 2
}
