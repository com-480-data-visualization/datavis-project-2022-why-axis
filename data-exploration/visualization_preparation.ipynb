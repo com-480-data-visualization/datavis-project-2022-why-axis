{
 "cells": [
  {
   "cell_type": "code",
   "execution_count": 2,
   "metadata": {
    "pycharm": {
     "name": "#%%\n"
    }
   },
   "outputs": [],
   "source": [
    "import pandas as pd\n",
    "import numpy as np\n",
    "import json"
   ]
  },
  {
   "cell_type": "code",
   "execution_count": 3,
   "metadata": {
    "pycharm": {
     "name": "#%%\n"
    }
   },
   "outputs": [],
   "source": [
    "# parse country codes to names, country codes taken from: https://datahub.io/core/country-list\n",
    "with open(\"../dataset/country_codes.json\", \"r\") as f:\n",
    "    country_codes = json.load(f)\n",
    "    code_to_country = {entry[\"Code\"]: entry[\"Name\"] for entry in country_codes}\n",
    "    # \"uk\" and \"el\" were missing in the country codes list\n",
    "    code_to_country[\"UK\"] = \"Utd. Kingdom\"\n",
    "    code_to_country[\"EL\"] = \"Greece\""
   ]
  },
  {
   "cell_type": "code",
   "execution_count": null,
   "metadata": {
    "pycharm": {
     "name": "#%%\n",
     "is_executing": true
    }
   },
   "outputs": [],
   "source": [
    "# load the dataset of student exchanges\n",
    "df = pd.read_csv(\"../dataset/erasmus-only-study-exchange.csv\")"
   ]
  },
  {
   "cell_type": "code",
   "execution_count": null,
   "metadata": {
    "pycharm": {
     "name": "#%%\n",
     "is_executing": true
    }
   },
   "outputs": [],
   "source": [
    "# translate existing field of study entries to categories of larger granularity\n",
    "# mapping has been done manually, see field_of_study_mapping.csv for details\n",
    "field_of_study_mapping = {\n",
    "1: \"Natural Sciences and Mathematics\",\n",
    "2: \"Engineering and Technology\",\n",
    "3: \"Humanities, Arts and Social Science\",\n",
    "4: \"Medicine and Health\",\n",
    "5: \"Economics and Business\",\n",
    "6: \"Languages\",\n",
    "7: \"Other\",\n",
    "8: \"Not specified\"}\n",
    "foe_labels = pd.read_csv(\"../dataset/field_of_study_mapping.csv\", sep=\"; \")\n",
    "\n",
    "df = pd.merge(df, foe_labels, on=\"Field of Education\")\n",
    "df[\"Field of Education\"] = df[\"Label\"].apply(lambda x: field_of_study_mapping[x])"
   ]
  },
  {
   "cell_type": "code",
   "execution_count": null,
   "metadata": {
    "pycharm": {
     "name": "#%%\n"
    }
   },
   "outputs": [],
   "source": [
    "df[\"Field of Education\"].value_counts()"
   ]
  },
  {
   "cell_type": "code",
   "execution_count": null,
   "metadata": {
    "pycharm": {
     "name": "#%%\n"
    }
   },
   "outputs": [],
   "source": [
    "# prepare dataset for visualization 1: students per country (with attributes: gender, field of education, sending/receiving, academic year)\n",
    "# we want the following tabular dataset:\n",
    "# | Country | Year | University | Direction | Gender | Field | Participants |\n",
    "# ===========================================================================\n",
    "# | NL      | 2018 | TU Delft   | Sending   | Male   | CS    | 8            |\n",
    "\n",
    "df_female = df[df[\"Participant Gender\"] == \"Female\"]\n",
    "df_male = df[df[\"Participant Gender\"] == \"Male\"]\n",
    "grouping_columns = ['Academic Year']\n",
    "\n",
    "# SENDING FEMALE\n",
    "sending_female = df_female[grouping_columns + [\"Participants\", \"Sending Country Code\"]]\n",
    "sending_female = sending_female.groupby([\"Academic Year\", \"Sending Country Code\"]).agg({\"Participants\": \"sum\"}).reset_index()\n",
    "sending_female.rename(columns={\"Sending Country Code\": \"Country\", \"Participants\" : \"Sending-Female\"}, inplace=True)\n",
    "\n",
    "# SENDING MALE\n",
    "sending_male = df_male[grouping_columns + [\"Participants\", \"Sending Country Code\"]]\n",
    "sending_male = sending_male.groupby([\"Academic Year\", \"Sending Country Code\"]).agg({\"Participants\": \"sum\"}).reset_index()\n",
    "sending_male.rename(columns={\"Sending Country Code\": \"Country\", \"Participants\" : \"Sending-Male\"}, inplace=True)\n",
    "\n",
    "# SENDING ALL\n",
    "sending_all = df[grouping_columns + [\"Participants\", \"Sending Country Code\"]]\n",
    "sending_all = sending_all.groupby(grouping_columns + [\"Sending Country Code\"]).agg({\"Participants\": \"sum\"}).reset_index()\n",
    "sending_all.rename(columns={\"Sending Country Code\": \"Country\", \"Participants\" : \"Sending-All\"}, inplace=True)\n",
    "\n",
    "# RECEIVING FEMALE\n",
    "receiving_female = df_female[grouping_columns + [\"Participants\", \"Receiving Country Code\"]]\n",
    "receiving_female = receiving_female.groupby([\"Academic Year\", \"Receiving Country Code\"]).agg({\"Participants\": \"sum\"}).reset_index()\n",
    "receiving_female.rename(columns={\"Receiving Country Code\": \"Country\", \"Participants\" : \"Receiving-Female\"}, inplace=True)\n",
    "\n",
    "# RECEIVING MALE\n",
    "receiving_male = df_male[grouping_columns + [\"Participants\", \"Receiving Country Code\"]]\n",
    "receiving_male = receiving_male.groupby([\"Academic Year\", \"Receiving Country Code\"]).agg({\"Participants\": \"sum\"}).reset_index()\n",
    "receiving_male.rename(columns={\"Receiving Country Code\": \"Country\", \"Participants\" : \"Receiving-Male\"}, inplace=True)\n",
    "\n",
    "# RECEIVING ALL\n",
    "receiving_all = df[grouping_columns + [\"Participants\", \"Receiving Country Code\"]]\n",
    "receiving_all = receiving_all.groupby(grouping_columns + [\"Receiving Country Code\"]).agg({\"Participants\": \"sum\"}).reset_index()\n",
    "receiving_all.rename(columns={\"Receiving Country Code\": \"Country\", \"Participants\" : \"Receiving-All\"}, inplace=True)\n",
    "\n",
    "sending_merge = pd.merge(sending_female, sending_male, on=['Academic Year', 'Country'],how='outer').reset_index(drop=True).fillna(0)\n",
    "sending_merge = pd.merge(sending_merge, sending_all, on=['Academic Year', 'Country'],how='outer').reset_index(drop=True).fillna(0)\n",
    "receiving_merge = pd.merge(receiving_female, receiving_male, on=['Academic Year', 'Country'],how='outer').reset_index(drop=True).fillna(0)\n",
    "receiving_merge = pd.merge(receiving_merge, receiving_all, on=['Academic Year', 'Country'],how='outer').reset_index(drop=True).fillna(0)\n",
    "visualization_1 = pd.merge(sending_merge, receiving_merge, on=['Academic Year', 'Country'],how='outer').reset_index(drop=True).fillna(0)\n",
    "visualization_1[\"All-Female\"] = visualization_1[\"Sending-Female\"] + visualization_1[\"Receiving-Female\"]\n",
    "visualization_1[\"All-Male\"] = visualization_1[\"Sending-Male\"] + visualization_1[\"Receiving-Male\"]\n",
    "visualization_1[\"All-All\"] = visualization_1[\"Sending-All\"] + visualization_1[\"Receiving-All\"]\n",
    "\n",
    "# Map country id to name, and manually to match for world map\n",
    "visualization_1[\"Country\"].replace(code_to_country, inplace=True)\n",
    "visualization_1[\"Country\"].replace({\"Czechia\" : \"Czech Republic\", \"Serbia\" : \"Republic of Serbia\", \"Utd. Kingdom\" : \"England\"}, inplace=True)\n",
    "visualization_1.head(10)\n",
    "\n",
    "j = (visualization_1.groupby(['Country'])\n",
    "       .apply(lambda x: x[['Academic Year','Sending-Female', 'Sending-Male', 'Sending-All', 'Receiving-Female', 'Receiving-Male', 'Receiving-All', 'All-Female', 'All-Male', 'All-All']].to_dict('records'))\n",
    "       .reset_index()\n",
    "       .rename(columns={0:'Yearly-Data'})\n",
    "       .to_json('../dataset/viz1.json', indent=2, orient='records'))"
   ]
  },
  {
   "cell_type": "code",
   "execution_count": null,
   "metadata": {
    "pycharm": {
     "name": "#%%\n"
    }
   },
   "outputs": [],
   "source": [
    "visualization_1"
   ]
  },
  {
   "cell_type": "code",
   "execution_count": null,
   "metadata": {
    "pycharm": {
     "name": "#%%\n"
    }
   },
   "outputs": [],
   "source": [
    "# visualization 2 - chord diagram - for each pair of countries (c1,c2) we want {from: c1, to: c2, participants: X}\n",
    "visualization_2 = df[[\"Sending Country Code\", \"Receiving Country Code\", \"Participants\"]] \\\n",
    "    .groupby([\"Sending Country Code\", \"Receiving Country Code\"]) \\\n",
    "    .agg({\"Participants\": \"sum\"}).sort_values(\"Participants\", ascending=False).reset_index()\n",
    "\n",
    "# fix the problem with missing row for RS\n",
    "rs = {\"Sending Country Code\": 'RS', \"Receiving Country Code\": 'UK', \"Participants\": 0}\n",
    "visualization_2 = visualization_2.append(rs, ignore_index=True)\n",
    "\n",
    "# visualization_2.to_csv(\"../dataset/visualization_2.csv\")"
   ]
  },
  {
   "cell_type": "code",
   "execution_count": null,
   "metadata": {
    "pycharm": {
     "name": "#%%\n"
    }
   },
   "outputs": [],
   "source": [
    "visualization_2"
   ]
  },
  {
   "cell_type": "code",
   "execution_count": null,
   "metadata": {
    "pycharm": {
     "name": "#%%\n"
    }
   },
   "outputs": [],
   "source": [
    "# we want to find the total number of participnants for each country\n",
    "visualization_2[[\"Sending Country Code\", \"Participants\"]].groupby(\"Sending Country Code\").agg({\"Participants\": \"sum\"}).sort_values(\"Participants\", ascending=False)\n",
    "\n",
    "# we want to find the total number of participants for each country and select only top 10 countries for the visualization\n",
    "sent = visualization_2[[\"Sending Country Code\", \"Participants\"]].groupby(\"Sending Country Code\").agg(\n",
    "    {\"Participants\": \"sum\"}).sort_values(\"Participants\", ascending=False).rename(columns = {\"Participants\": \"Sent\"})\n",
    "\n",
    "received = visualization_2[[\"Receiving Country Code\", \"Participants\"]].groupby(\"Receiving Country Code\").agg(\n",
    "    {\"Participants\": \"sum\"}).sort_values(\"Participants\", ascending=False).rename(columns = {\"Participants\": \"Received\"})\n",
    "\n",
    "counts = sent.join(received)\n",
    "counts[\"Total\"] = counts[\"Sent\"] + counts[\"Received\"]\n",
    "counts = counts.sort_values(\"Total\", ascending=False)\n",
    "top_countries = counts.index.values[:10]"
   ]
  },
  {
   "cell_type": "code",
   "execution_count": null,
   "metadata": {
    "pycharm": {
     "name": "#%%\n"
    }
   },
   "outputs": [],
   "source": [
    "visualization_2 = visualization_2[visualization_2[\"Sending Country Code\"].isin(top_countries)]\n",
    "visualization_2 = visualization_2[visualization_2[\"Receiving Country Code\"].isin(top_countries)]\n",
    "visualization_2"
   ]
  },
  {
   "cell_type": "code",
   "execution_count": null,
   "metadata": {
    "pycharm": {
     "name": "#%%\n"
    }
   },
   "outputs": [],
   "source": [
    "visualization_2_matrix = visualization_2.pivot(index=[\"Sending Country Code\"], columns=[\"Receiving Country Code\"], values=[\"Participants\"]).fillna(0)\n",
    "visualization_2_matrix"
   ]
  },
  {
   "cell_type": "code",
   "execution_count": null,
   "metadata": {
    "pycharm": {
     "name": "#%%\n"
    }
   },
   "outputs": [],
   "source": [
    "visualization_2_matrix_norm = visualization_2_matrix.div(visualization_2_matrix.sum(axis=1), axis = 0)\n",
    "visualization_2_matrix_norm"
   ]
  },
  {
   "cell_type": "code",
   "execution_count": null,
   "metadata": {
    "pycharm": {
     "name": "#%%\n"
    }
   },
   "outputs": [],
   "source": [
    "matrix_values = visualization_2_matrix.values\n",
    "matrix_labels = [code_to_country[code] for code in visualization_2_matrix.index.values]"
   ]
  },
  {
   "cell_type": "code",
   "execution_count": null,
   "metadata": {
    "pycharm": {
     "name": "#%%\n"
    }
   },
   "outputs": [],
   "source": [
    "# save the data to json so it can be read in the visualization\n",
    "import json\n",
    "\n",
    "with open(\"../docs/data/viz2.json\", \"w+\") as f:\n",
    "    data = {\"matrix\": matrix_values.tolist(),\n",
    "    \"labels\": matrix_labels}\n",
    "    json.dump(data, f)"
   ]
  },
  {
   "cell_type": "code",
   "execution_count": null,
   "metadata": {
    "pycharm": {
     "name": "#%%\n"
    }
   },
   "outputs": [],
   "source": [
    "# visualization 3: popularity of fields per year\n",
    "visualization_3 = df[[\"Academic Year\", \"Field of Education\", \"Participants\"]] \\\n",
    "    .groupby([\"Academic Year\", \"Field of Education\"]) \\\n",
    "    .agg({\"Participants\": \"sum\"}).sort_values([\"Academic Year\", \"Field of Education\"]).reset_index()\n",
    "visualization_3.to_csv(\"../dataset/visualization_3.csv\")\n",
    "visualization_3"
   ]
  },
  {
   "cell_type": "code",
   "execution_count": null,
   "metadata": {
    "pycharm": {
     "name": "#%%\n"
    }
   },
   "outputs": [],
   "source": [
    "viz3 = visualization_3.pivot(index=\"Academic Year\", columns=\"Field of Education\", values=\"Participants\")\n",
    "viz3.index = viz3.index.map(lambda x: int(x.split(\"-\")[0]))\n",
    "viz3.index.name = \"Year\""
   ]
  },
  {
   "cell_type": "code",
   "execution_count": null,
   "metadata": {
    "pycharm": {
     "name": "#%%\n"
    }
   },
   "outputs": [],
   "source": [
    "viz3 = viz3.div(viz3.sum(axis=1), axis=0)"
   ]
  },
  {
   "cell_type": "code",
   "execution_count": null,
   "metadata": {
    "pycharm": {
     "name": "#%%\n"
    }
   },
   "outputs": [],
   "source": [
    "viz3"
   ]
  },
  {
   "cell_type": "code",
   "execution_count": null,
   "metadata": {
    "pycharm": {
     "name": "#%%\n"
    }
   },
   "outputs": [],
   "source": [
    "viz3.to_csv(\"../docs/data/viz3.csv\")"
   ]
  },
  {
   "cell_type": "code",
   "execution_count": null,
   "metadata": {
    "pycharm": {
     "name": "#%%\n"
    }
   },
   "outputs": [],
   "source": [
    "%pwd"
   ]
  },
  {
   "cell_type": "code",
   "execution_count": null,
   "metadata": {
    "pycharm": {
     "name": "#%%\n"
    }
   },
   "outputs": [],
   "source": [
    "# Visualization 4: bubble - bubble sizes based on total participants or pageranks\n",
    "exchanges = df[[\"Sending Organization\", \"Receiving Organization\", \"Participants\"]]\n",
    "links = exchanges.groupby([\"Sending Organization\", \"Receiving Organization\"]).agg('sum').reset_index().sort_values(\"Participants\", ascending=False) \\\n",
    "    .rename(columns={\"Sending Organization\":\"from\", \"Receiving Organization\":\"to\", \"Participants\": \"links\"}).reset_index(drop=True)"
   ]
  },
  {
   "cell_type": "code",
   "execution_count": null,
   "metadata": {
    "pycharm": {
     "name": "#%%\n"
    }
   },
   "outputs": [],
   "source": [
    "import networkx as nx\n",
    "# create a graph\n",
    "G = nx.from_pandas_edgelist(links, source=\"from\", target=\"to\", edge_attr=\"links\", create_using=nx.DiGraph())"
   ]
  },
  {
   "cell_type": "code",
   "execution_count": null,
   "metadata": {
    "pycharm": {
     "name": "#%%\n"
    }
   },
   "outputs": [],
   "source": [
    "pagerank = nx.pagerank(G)"
   ]
  },
  {
   "cell_type": "code",
   "execution_count": null,
   "metadata": {
    "pycharm": {
     "name": "#%%\n"
    }
   },
   "outputs": [],
   "source": [
    "betweenness = nx.betweenness_centrality(G)"
   ]
  },
  {
   "cell_type": "code",
   "execution_count": null,
   "metadata": {
    "pycharm": {
     "name": "#%%\n"
    }
   },
   "outputs": [],
   "source": [
    "betweenness"
   ]
  },
  {
   "cell_type": "code",
   "execution_count": null,
   "metadata": {
    "pycharm": {
     "name": "#%%\n"
    }
   },
   "outputs": [],
   "source": [
    "# calculate total number of incoming/outgoing students per university\n",
    "outgoing = links[[\"from\", \"links\"]].groupby(\"from\").agg(\"sum\").sort_values(\"links\", ascending=False).reset_index().rename(columns={\"from\": \"university\", \"links\":\"outgoing\"})\n",
    "incoming = links[[\"to\", \"links\"]].groupby(\"to\").agg(\"sum\").sort_values(\"links\", ascending=False).reset_index().rename(columns={\"to\": \"university\", \"links\":\"incoming\"})"
   ]
  },
  {
   "cell_type": "code",
   "execution_count": null,
   "metadata": {
    "pycharm": {
     "name": "#%%\n"
    }
   },
   "outputs": [],
   "source": [
    "# add rankings \n",
    "ranking_df = pd.merge(outgoing, incoming, on=\"university\", how=\"outer\").fillna(0)\n",
    "ranking_df[\"total\"] = ranking_df[\"incoming\"] + ranking_df[\"outgoing\"]\n",
    "ranking_df[\"pagerank\"] = ranking_df[\"university\"].apply(lambda uni: pagerank[uni])\n",
    "ranking_df[\"betweenness\"] = ranking_df[\"university\"].apply(lambda uni: betweenness[uni])\n"
   ]
  },
  {
   "cell_type": "code",
   "execution_count": null,
   "metadata": {
    "pycharm": {
     "name": "#%%\n"
    }
   },
   "outputs": [],
   "source": [
    "ranking_df = ranking_df.sort_values(\"total\", ascending=False).reset_index(drop=True)\n"
   ]
  },
  {
   "cell_type": "code",
   "execution_count": null,
   "metadata": {
    "pycharm": {
     "name": "#%%\n"
    }
   },
   "outputs": [],
   "source": [
    "ranking_df"
   ]
  },
  {
   "cell_type": "code",
   "execution_count": null,
   "metadata": {
    "pycharm": {
     "name": "#%%\n"
    }
   },
   "outputs": [],
   "source": [
    "ranking_df.to_csv(\"../dataset/visualization_4.csv\")"
   ]
  }
 ],
 "metadata": {
  "interpreter": {
   "hash": "1e08520b68f3754c1712d5436b5f234d691ff5884afca4e476a10430316d59c1"
  },
  "kernelspec": {
   "display_name": "Python 3 (ipykernel)",
   "language": "python",
   "name": "python3"
  },
  "language_info": {
   "codemirror_mode": {
    "name": "ipython",
    "version": 3
   },
   "file_extension": ".py",
   "mimetype": "text/x-python",
   "name": "python",
   "nbconvert_exporter": "python",
   "pygments_lexer": "ipython3",
   "version": "3.9.12"
  }
 },
 "nbformat": 4,
 "nbformat_minor": 2
}